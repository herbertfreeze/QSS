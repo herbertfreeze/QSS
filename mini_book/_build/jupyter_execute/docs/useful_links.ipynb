{
 "cells": [
  {
   "cell_type": "markdown",
   "id": "7a495cab",
   "metadata": {},
   "source": [
    "(useful_links)=\n",
    "\n",
    "# Useful Links\n",
    "\n",
    "## Course Slides\n",
    "\n",
    "* To be posted.\n",
    "<!-- * [Unit 1](https://www.google.com) -->\n",
    "\n",
    "\n",
    "## Surveys\n",
    "\n",
    "* [Final project group preferences form](https://forms.gle/FxrVnLGXrLiGDtTh6) (due Friday, 10/06/23)\n",
    "<!-- * [Problem set 2 feedback form](https://forms.gle/R7GD8CYZiH182wwJ9) to complete *after* submitting pset 2 -->\n",
    "<!-- * [Complete this student information form](https://forms.gle/irAmC6sbBjEwKvL99) -->\n",
    "\n",
    "\n",
    "## Links for getting started\n",
    "\n",
    "* [Join the course DataCamp](https://www.datacamp.com/groups/shared_links/434e7826f38af70536acc1d3bf83fe921babc9c35b966195cf577468505c0473)\n",
    "<!-- * [Join the course Piazza](https://piazza.com/dartmouth/winter2023/qss020wi23) -->\n",
    "* [Create a free Overleaf account](https://www.overleaf.com/register)\n",
    "* [Create a free GitHub account](https://docs.github.com/en/github/getting-started-with-github/signing-up-for-a-new-github-account)\n",
    "\n",
    "\n",
    "## GitHub and coding resources\n",
    "\n",
    "* [Jupyter Hub](https://jhub.dartmouth.edu/)\n",
    "* [Download Anaconda](https://www.anaconda.com/products/distribution)\n",
    "* [Introduction to Jupyter Notebooks](https://realpython.com/jupyter-notebook-introduction/)\n",
    "* [Learn LaTeX in 30 minutes](https://www.overleaf.com/learn/latex/Learn_LaTeX_in_30_minutes)"
   ]
  }
 ],
 "metadata": {
  "jupytext": {
   "text_representation": {
    "extension": ".md",
    "format_name": "myst"
   }
  },
  "kernelspec": {
   "display_name": "Python 3",
   "language": "python",
   "name": "python3"
  },
  "source_map": [
   10
  ]
 },
 "nbformat": 4,
 "nbformat_minor": 5
}