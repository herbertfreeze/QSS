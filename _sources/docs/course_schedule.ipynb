{
 "cells": [
  {
   "cell_type": "markdown",
   "metadata": {},
   "source": [
    "# Course Schedule\n",
    "\n",
    "The course will meet on Tuesdays and Thursdays from 10:10 AM to 12:00 PM EST. \n",
    "\n",
    "Here is the current week-by-week schedule 📅 . We may adjust as we go along. \n",
    "\n",
    "To get started, let's create the course schedule using the pandas module in Python. **Click \"show\" to see the underlying code!**"
   ]
  },
  {
   "cell_type": "code",
   "execution_count": 2,
   "metadata": {
    "tags": [
     "hide-input"
    ]
   },
   "outputs": [
    {
     "data": {
      "text/plain": [
       "0      Tuesday 09-17\n",
       "1     Thursday 09-19\n",
       "2      Tuesday 09-24\n",
       "3     Thursday 09-26\n",
       "4      Tuesday 10-01\n",
       "5     Thursday 10-03\n",
       "6      Tuesday 10-08\n",
       "7     Thursday 10-10\n",
       "8      Tuesday 10-15\n",
       "9     Thursday 10-17\n",
       "10     Tuesday 10-22\n",
       "11    Thursday 10-24\n",
       "12     Tuesday 10-29\n",
       "13    Thursday 10-31\n",
       "14     Tuesday 11-05\n",
       "15    Thursday 11-07\n",
       "16     Tuesday 11-12\n",
       "17    Thursday 11-14\n",
       "18     Tuesday 11-19\n",
       "Name: day_date, dtype: object"
      ]
     },
     "metadata": {},
     "output_type": "display_data"
    }
   ],
   "source": [
    "# import modules\n",
    "import pandas as pd\n",
    "import re\n",
    "import numpy as np\n",
    "\n",
    "\n",
    "# tell python to display output and print multiple objects\n",
    "from IPython.display import display, HTML\n",
    "from IPython.core.interactiveshell import InteractiveShell\n",
    "InteractiveShell.ast_node_interactivity = \"all\"\n",
    "\n",
    "# create range b/t start and end date of course\n",
    "start_date = pd.to_datetime(\"2024-09-16\")\n",
    "end_date = pd.to_datetime(\"2024-11-19\")\n",
    "alldates = pd.date_range(start_date, end_date)\n",
    "\n",
    "# subset to days in that range equal to Tuesday and Thursday\n",
    "tt = alldates[alldates.day_name().isin(['Tuesday', 'Thursday']) ]\n",
    "\n",
    "# create DataFrame with that information\n",
    "qss20_dates = [re.sub(\"2024\\\\-\", \"\", str(day.date())) for day in tt]\n",
    "course_sched = pd.DataFrame({'dow': tt.day_name(),\n",
    "                             'date': qss20_dates})\n",
    "course_sched['day_date'] = course_sched.dow.astype(str) + \" \" + \\\n",
    "            course_sched.date.astype(str)\n",
    "\n",
    "# display the resulting date sequence\n",
    "display(course_sched.day_date)\n"
   ]
  },
  {
   "cell_type": "markdown",
   "metadata": {},
   "source": [
    "The next few blocks of code creates the actual schedule content by creating a new column."
   ]
  },
  {
   "cell_type": "code",
   "execution_count": 22,
   "metadata": {
    "tags": [
     "hide-input"
    ]
   },
   "outputs": [
    {
     "name": "stdout",
     "output_type": "stream",
     "text": [
      "              Date                                           Concepts\n",
      "0    Tuesday 09-17                    Course intro. & syllabus review\n",
      "1   Thursday 09-19  Python basics (variables, lists, arrays) & sof...\n",
      "2    Tuesday 09-24  Pandas for data manipulation 1 + static data v...\n",
      "3   Thursday 09-26                                           Pandas 2\n",
      "4    Tuesday 10-01                             User-defined functions\n",
      "5   Thursday 10-03             Workflow basics: command line & Github\n",
      "6    Tuesday 10-08                                       Merging data\n",
      "7   Thursday 10-10                             No Class (@Conference)\n",
      "8    Tuesday 10-15                        Regular expressions (Regex)\n",
      "9   Thursday 10-17                       Text-as-data 1 (text mining)\n",
      "10   Tuesday 10-22                    Text-as-data 2 (topic modeling)\n",
      "11  Thursday 10-24                                               APIs\n",
      "12   Tuesday 10-29                       Social Network Visualization\n",
      "13  Thursday 10-31                                 Homecoming Weekend\n",
      "14   Tuesday 11-05                      Supervised machine learning 1\n",
      "15  Thursday 11-07                      Supervised machine learning 2\n",
      "16   Tuesday 11-12                                                SQL\n",
      "17  Thursday 11-14              Common Distribs; Project work session\n",
      "18   Tuesday 11-19                                Final presentations\n"
     ]
    }
   ],
   "source": [
    "# create basic schedule content\n",
    "\n",
    "# list of concepts\n",
    "concepts = [\"Course intro. & syllabus review\",\n",
    "            \"Python basics (variables, lists, arrays) & software setup\",\n",
    "            \"Pandas for data manipulation 1 + static data visualization\",\n",
    "            \"Pandas 2\",\n",
    "            \"User-defined functions\",\n",
    "            \"Workflow basics: command line & Github\",\n",
    "            \"Merging data\",\n",
    "            \"No Class (@Conference)\",\n",
    "            \"Regular expressions (Regex)\",\n",
    "            \"Text-as-data 1 (text mining)\",\n",
    "            \"Text-as-data 2 (topic modeling)\",\n",
    "            \"APIs\",\n",
    "            \"Social Network Visualization\",\n",
    "            \"Homecoming Weekend\",\n",
    "            \"Supervised machine learning 1\",\n",
    "            \"Supervised machine learning 2\",\n",
    "            \"SQL\",\n",
    "            \"Common Distribs; Project work session\",\n",
    "            \"Final presentations\"]\n",
    "\n",
    "# check that concepts match number of weeks\n",
    "assert len(course_sched.day_date) == len(concepts)\n",
    "\n",
    "# combine dates with concepts\n",
    "course_sched_concepts = pd.DataFrame({'Date': course_sched.day_date,\n",
    "                                     'Concepts': concepts})\n",
    "\n",
    "df = course_sched_concepts.copy()\n",
    "\n",
    "print(df)"
   ]
  },
  {
   "cell_type": "code",
   "execution_count": 28,
   "metadata": {
    "tags": [
     "hide-input"
    ]
   },
   "outputs": [],
   "source": [
    "# define DataCamp modules\n",
    "modules = [\"\",\n",
    "           \"Intro. to Python (chpts. 2-3)\",\n",
    "           \"Data Manipulation with pandas (course)\",\"\",\n",
    "           \"Writing your own functions (chpt.)\",\n",
    "           \"Intro. to Shell, Intro. to GitHub (chpts.)\",\n",
    "           \"Joining Data with pandas (chpts. 1-2)\",\"\",\n",
    "           \"Regular Expressions for Pattern Matching (chpt.)\",\n",
    "           \"Text preprocessing, POS tagging and NER (chpt.)\",\n",
    "           \n",
    "           \"\",\n",
    "           \"\",\"\",\"\",\n",
    "           \"Supervised Learning with scikit-learn (course)\",\n",
    "           \"\",\n",
    "           \"Intro. to SQL (chpts. 1-2)\",\n",
    "          \"\",\"\"]\n",
    "\n",
    "df[\"DataCamp module(s) (if any)\"] = modules"
   ]
  },
  {
   "cell_type": "code",
   "execution_count": 32,
   "metadata": {
    "tags": [
     "hide-input"
    ]
   },
   "outputs": [],
   "source": [
    "# define assignments\n",
    "assignments = [\"First Latex Submission (solo, due Sunday 09-22)\", \"\",\n",
    "               \"Problem set one (submit as group; due Monday 09-30)\",\"\",\"\",\n",
    "               \"Final Project Form (due Thursday 10-10)\",\n",
    "               \"Problem set two (due Monday 10-14)\",\"\",\n",
    "               \"Final project milestone 1 (due Thursday 10-31)\",\"\",\n",
    "               \"Problem set three (due Monday 10-28)\",\"\",\n",
    "               \"Final project milestone 2 (due Thursday 11-07) \",\"\",\n",
    "               \"Problem set four (due Friday 11-11)\",\"\",\"\",\"\",\n",
    "               \"Final project presentation (paper due Tuesday 11-26)\"]\n",
    "\n",
    "df[\"Due (11:59 PM EST unless otherwise specified)\"] = assignments"
   ]
  },
  {
   "cell_type": "code",
   "execution_count": 33,
   "metadata": {},
   "outputs": [
    {
     "data": {
      "text/html": [
       "<table border=\"1\" class=\"dataframe\">\n",
       "  <thead>\n",
       "    <tr style=\"text-align: right;\">\n",
       "      <th>Date</th>\n",
       "      <th>Concepts</th>\n",
       "      <th>DataCamp module(s) (if any)</th>\n",
       "      <th>Due (11:59 PM EST unless otherwise specified)</th>\n",
       "    </tr>\n",
       "  </thead>\n",
       "  <tbody>\n",
       "    <tr>\n",
       "      <td>Tuesday 09-17</td>\n",
       "      <td>Course intro. & syllabus review</td>\n",
       "      <td></td>\n",
       "      <td>First Latex Submission (solo, due Sunday 09-22)</td>\n",
       "    </tr>\n",
       "    <tr>\n",
       "      <td>Thursday 09-19</td>\n",
       "      <td>Python basics (variables, lists, arrays) & software setup</td>\n",
       "      <td>Intro. to Python (chpts. 2-3)</td>\n",
       "      <td></td>\n",
       "    </tr>\n",
       "    <tr>\n",
       "      <td>Tuesday 09-24</td>\n",
       "      <td>Pandas for data manipulation 1 + static data visualization</td>\n",
       "      <td>Data Manipulation with pandas (course)</td>\n",
       "      <td>Problem set one (submit as group; due Monday 09-30)</td>\n",
       "    </tr>\n",
       "    <tr>\n",
       "      <td>Thursday 09-26</td>\n",
       "      <td>Pandas 2</td>\n",
       "      <td></td>\n",
       "      <td></td>\n",
       "    </tr>\n",
       "    <tr>\n",
       "      <td>Tuesday 10-01</td>\n",
       "      <td>User-defined functions</td>\n",
       "      <td>Writing your own functions (chpt.)</td>\n",
       "      <td></td>\n",
       "    </tr>\n",
       "    <tr>\n",
       "      <td>Thursday 10-03</td>\n",
       "      <td>Workflow basics: command line & Github</td>\n",
       "      <td>Intro. to Shell, Intro. to GitHub (chpts.)</td>\n",
       "      <td>Final Project Form (due Thursday 10-10)</td>\n",
       "    </tr>\n",
       "    <tr>\n",
       "      <td>Tuesday 10-08</td>\n",
       "      <td>Merging data</td>\n",
       "      <td>Joining Data with pandas (chpts. 1-2)</td>\n",
       "      <td>Problem set two (due Monday 10-14)</td>\n",
       "    </tr>\n",
       "    <tr>\n",
       "      <td>Thursday 10-10</td>\n",
       "      <td>No Class (@Conference)</td>\n",
       "      <td></td>\n",
       "      <td></td>\n",
       "    </tr>\n",
       "    <tr>\n",
       "      <td>Tuesday 10-15</td>\n",
       "      <td>Regular expressions (Regex)</td>\n",
       "      <td>Regular Expressions for Pattern Matching (chpt.)</td>\n",
       "      <td>Final project milestone 1 (due Thursday 10-31)</td>\n",
       "    </tr>\n",
       "    <tr>\n",
       "      <td>Thursday 10-17</td>\n",
       "      <td>Text-as-data 1 (text mining)</td>\n",
       "      <td>Text preprocessing, POS tagging and NER (chpt.)</td>\n",
       "      <td></td>\n",
       "    </tr>\n",
       "    <tr>\n",
       "      <td>Tuesday 10-22</td>\n",
       "      <td>Text-as-data 2 (topic modeling)</td>\n",
       "      <td></td>\n",
       "      <td>Problem set three (due Monday 10-28)</td>\n",
       "    </tr>\n",
       "    <tr>\n",
       "      <td>Thursday 10-24</td>\n",
       "      <td>APIs</td>\n",
       "      <td></td>\n",
       "      <td></td>\n",
       "    </tr>\n",
       "    <tr>\n",
       "      <td>Tuesday 10-29</td>\n",
       "      <td>Social Network Visualization</td>\n",
       "      <td></td>\n",
       "      <td>Final project milestone 2 (due Thursday 11-07)</td>\n",
       "    </tr>\n",
       "    <tr>\n",
       "      <td>Thursday 10-31</td>\n",
       "      <td>Homecoming Weekend</td>\n",
       "      <td></td>\n",
       "      <td></td>\n",
       "    </tr>\n",
       "    <tr>\n",
       "      <td>Tuesday 11-05</td>\n",
       "      <td>Supervised machine learning 1</td>\n",
       "      <td>Supervised Learning with scikit-learn (course)</td>\n",
       "      <td>Problem set four (due Friday 11-11)</td>\n",
       "    </tr>\n",
       "    <tr>\n",
       "      <td>Thursday 11-07</td>\n",
       "      <td>Supervised machine learning 2</td>\n",
       "      <td></td>\n",
       "      <td></td>\n",
       "    </tr>\n",
       "    <tr>\n",
       "      <td>Tuesday 11-12</td>\n",
       "      <td>SQL</td>\n",
       "      <td>Intro. to SQL (chpts. 1-2)</td>\n",
       "      <td></td>\n",
       "    </tr>\n",
       "    <tr>\n",
       "      <td>Thursday 11-14</td>\n",
       "      <td>Common Distribs; Project work session</td>\n",
       "      <td></td>\n",
       "      <td></td>\n",
       "    </tr>\n",
       "    <tr>\n",
       "      <td>Tuesday 11-19</td>\n",
       "      <td>Final presentations</td>\n",
       "      <td></td>\n",
       "      <td>Final project presentation (paper due Tuesday 11-26)</td>\n",
       "    </tr>\n",
       "  </tbody>\n",
       "</table>"
      ],
      "text/plain": [
       "<IPython.core.display.HTML object>"
      ]
     },
     "execution_count": 33,
     "metadata": {},
     "output_type": "execute_result"
    }
   ],
   "source": [
    "HTML(df.to_html(index=False, escape = False))"
   ]
  }
 ],
 "metadata": {
  "celltoolbar": "Tags",
  "kernelspec": {
   "display_name": "Python 3 (ipykernel)",
   "language": "python",
   "name": "python3"
  },
  "language_info": {
   "codemirror_mode": {
    "name": "ipython",
    "version": 3
   },
   "file_extension": ".py",
   "mimetype": "text/x-python",
   "name": "python",
   "nbconvert_exporter": "python",
   "pygments_lexer": "ipython3",
   "version": "3.10.13"
  }
 },
 "nbformat": 4,
 "nbformat_minor": 4
}
